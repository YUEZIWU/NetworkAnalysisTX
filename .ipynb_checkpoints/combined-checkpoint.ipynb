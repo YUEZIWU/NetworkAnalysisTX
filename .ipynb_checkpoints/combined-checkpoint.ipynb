{
 "cells": [
  {
   "cell_type": "code",
   "execution_count": 32,
   "id": "c8e630a7",
   "metadata": {},
   "outputs": [],
   "source": [
    "import geopandas as gpd"
   ]
  },
  {
   "cell_type": "code",
   "execution_count": 33,
   "id": "ff242619",
   "metadata": {},
   "outputs": [],
   "source": [
    "tx_output_0 = gpd.read_file(r'transformers_location/gridmodel_tx_locations_0.gpkg')\n",
    "tx_output_1 = gpd.read_file(r'transformers_location/gridmodel_tx_locations_1.gpkg')\n",
    "tx_output_2 = gpd.read_file(r'transformers_location/gridmodel_tx_locations_2.gpkg')"
   ]
  },
  {
   "cell_type": "code",
   "execution_count": 39,
   "id": "e24477c6",
   "metadata": {},
   "outputs": [],
   "source": [
    "tx_full = gpd.GeoDataFrame()\n",
    "tx_full = tx_full.append(tx_output_0)\n",
    "tx_full = tx_full.append(tx_output_1)\n",
    "tx_full = tx_full.append(tx_output_2)\n",
    "#print(tx_full.crs)\n",
    "#tx_full.to_file('transformers_location/gridmodel_tx_locations_full.gpkg', driver=\"GPKG\")"
   ]
  },
  {
   "cell_type": "code",
   "execution_count": 40,
   "id": "c20e3ce4",
   "metadata": {},
   "outputs": [
    {
     "data": {
      "text/plain": [
       "{}"
      ]
     },
     "execution_count": 40,
     "metadata": {},
     "output_type": "execute_result"
    }
   ],
   "source": [
    "tx_full.crs"
   ]
  },
  {
   "cell_type": "code",
   "execution_count": 41,
   "id": "43817095",
   "metadata": {},
   "outputs": [],
   "source": [
    "tx_full.crs = {'init' :'epsg:32737'}\n",
    "tx_full = tx_full.to_crs(epsg=4326)"
   ]
  },
  {
   "cell_type": "code",
   "execution_count": 42,
   "id": "13d14008",
   "metadata": {},
   "outputs": [],
   "source": [
    "tx_full.to_file('transformers_location/gridmodel_tx_locations_full.gpkg', driver=\"GPKG\")"
   ]
  },
  {
   "cell_type": "code",
   "execution_count": 44,
   "id": "37d6a2ca",
   "metadata": {},
   "outputs": [
    {
     "data": {
      "text/html": [
       "<div>\n",
       "<style scoped>\n",
       "    .dataframe tbody tr th:only-of-type {\n",
       "        vertical-align: middle;\n",
       "    }\n",
       "\n",
       "    .dataframe tbody tr th {\n",
       "        vertical-align: top;\n",
       "    }\n",
       "\n",
       "    .dataframe thead th {\n",
       "        text-align: right;\n",
       "    }\n",
       "</style>\n",
       "<table border=\"1\" class=\"dataframe\">\n",
       "  <thead>\n",
       "    <tr style=\"text-align: right;\">\n",
       "      <th></th>\n",
       "      <th>id</th>\n",
       "      <th>county</th>\n",
       "      <th>ward</th>\n",
       "      <th>sub_grid</th>\n",
       "      <th>area_cate</th>\n",
       "      <th>geometry</th>\n",
       "    </tr>\n",
       "  </thead>\n",
       "  <tbody>\n",
       "    <tr>\n",
       "      <th>0</th>\n",
       "      <td>0.0</td>\n",
       "      <td>Kisii</td>\n",
       "      <td>MajogeBasi</td>\n",
       "      <td>subgrid_0</td>\n",
       "      <td>Non-NR</td>\n",
       "      <td>POINT (34.71022 -0.71689)</td>\n",
       "    </tr>\n",
       "    <tr>\n",
       "      <th>1</th>\n",
       "      <td>7.0</td>\n",
       "      <td>Kisii</td>\n",
       "      <td>MajogeBasi</td>\n",
       "      <td>subgrid_0</td>\n",
       "      <td>Non-NR</td>\n",
       "      <td>POINT (34.70491 -0.71671)</td>\n",
       "    </tr>\n",
       "    <tr>\n",
       "      <th>2</th>\n",
       "      <td>9.0</td>\n",
       "      <td>Kisii</td>\n",
       "      <td>MajogeBasi</td>\n",
       "      <td>subgrid_0</td>\n",
       "      <td>Non-NR</td>\n",
       "      <td>POINT (34.70513 -0.72213)</td>\n",
       "    </tr>\n",
       "    <tr>\n",
       "      <th>3</th>\n",
       "      <td>17.0</td>\n",
       "      <td>Kisii</td>\n",
       "      <td>MajogeBasi</td>\n",
       "      <td>subgrid_0</td>\n",
       "      <td>Non-NR</td>\n",
       "      <td>POINT (34.70876 -0.72627)</td>\n",
       "    </tr>\n",
       "    <tr>\n",
       "      <th>4</th>\n",
       "      <td>5.0</td>\n",
       "      <td>Kisii</td>\n",
       "      <td>MajogeBasi</td>\n",
       "      <td>subgrid_0</td>\n",
       "      <td>Non-NR</td>\n",
       "      <td>POINT (34.71143 -0.73181)</td>\n",
       "    </tr>\n",
       "  </tbody>\n",
       "</table>\n",
       "</div>"
      ],
      "text/plain": [
       "     id county        ward   sub_grid area_cate                   geometry\n",
       "0   0.0  Kisii  MajogeBasi  subgrid_0    Non-NR  POINT (34.71022 -0.71689)\n",
       "1   7.0  Kisii  MajogeBasi  subgrid_0    Non-NR  POINT (34.70491 -0.71671)\n",
       "2   9.0  Kisii  MajogeBasi  subgrid_0    Non-NR  POINT (34.70513 -0.72213)\n",
       "3  17.0  Kisii  MajogeBasi  subgrid_0    Non-NR  POINT (34.70876 -0.72627)\n",
       "4   5.0  Kisii  MajogeBasi  subgrid_0    Non-NR  POINT (34.71143 -0.73181)"
      ]
     },
     "execution_count": 44,
     "metadata": {},
     "output_type": "execute_result"
    }
   ],
   "source": [
    "len(tx_full)\n",
    "tx_full.head()"
   ]
  },
  {
   "cell_type": "code",
   "execution_count": 45,
   "id": "ddde480c",
   "metadata": {},
   "outputs": [
    {
     "data": {
      "text/plain": [
       "False"
      ]
     },
     "execution_count": 45,
     "metadata": {},
     "output_type": "execute_result"
    }
   ],
   "source": [
    "tx_full['area_cate']"
   ]
  },
  {
   "cell_type": "code",
   "execution_count": 50,
   "id": "8621f846",
   "metadata": {},
   "outputs": [],
   "source": [
    "wards_final = tx_full[['county','ward']].drop_duplicates()"
   ]
  },
  {
   "cell_type": "code",
   "execution_count": 51,
   "id": "602b77f7",
   "metadata": {},
   "outputs": [
    {
     "data": {
      "text/plain": [
       "1402"
      ]
     },
     "execution_count": 51,
     "metadata": {},
     "output_type": "execute_result"
    }
   ],
   "source": [
    "len(wards_final)"
   ]
  },
  {
   "cell_type": "code",
   "execution_count": 52,
   "id": "cb3a183f",
   "metadata": {},
   "outputs": [
    {
     "data": {
      "text/plain": [
       "241733"
      ]
     },
     "execution_count": 52,
     "metadata": {},
     "output_type": "execute_result"
    }
   ],
   "source": [
    "len(tx_full)"
   ]
  }
 ],
 "metadata": {
  "kernelspec": {
   "display_name": "Python 3 (ipykernel)",
   "language": "python",
   "name": "python3"
  },
  "language_info": {
   "codemirror_mode": {
    "name": "ipython",
    "version": 3
   },
   "file_extension": ".py",
   "mimetype": "text/x-python",
   "name": "python",
   "nbconvert_exporter": "python",
   "pygments_lexer": "ipython3",
   "version": "3.7.3"
  }
 },
 "nbformat": 4,
 "nbformat_minor": 5
}
